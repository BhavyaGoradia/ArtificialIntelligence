{
 "cells": [
  {
   "cell_type": "code",
   "execution_count": 1,
   "metadata": {},
   "outputs": [],
   "source": [
    "##Defining graph in form of a dictionary\n",
    "graph = {1 : [8,14],\n",
    "         3 : [51,6,9],\n",
    "         6 : [3,8,51,57],\n",
    "         8 : [1,6,9,42],\n",
    "         9 : [3,8],\n",
    "         14 : [1,97],\n",
    "         42 : [],\n",
    "         51 : [3,6],\n",
    "         57 : [],\n",
    "         97 : []}"
   ]
  },
  {
   "cell_type": "code",
   "execution_count": 2,
   "metadata": {},
   "outputs": [],
   "source": [
    "#Function 'bfs' \n",
    "##keep track on all visited noeds and queue for the next node to be checked.\n",
    "def bfs(graph,start):\n",
    "    visited = []\n",
    "    queue = [start]\n",
    "##Tracking(looping) till all nodes are not traversed.\n",
    "    while queue:\n",
    "        node = queue.pop(0)\n",
    "        if node not in visited:\n",
    "            visited.append(node)\n",
    "            neighbours = graph[node]\n",
    "##Add neigbour nodes to the queue            \n",
    "            for neighbour in neighbours:\n",
    "                queue.append(neighbour)\n",
    "    return visited"
   ]
  },
  {
   "cell_type": "code",
   "execution_count": 3,
   "metadata": {},
   "outputs": [
    {
     "data": {
      "text/plain": [
       "[1, 8, 14, 6, 9, 42, 97, 3, 51, 57]"
      ]
     },
     "execution_count": 3,
     "metadata": {},
     "output_type": "execute_result"
    }
   ],
   "source": [
    "##FunctionCall(bfs(dictionaryname,node))\n",
    "bfs(graph,1)"
   ]
  }
 ],
 "metadata": {
  "kernelspec": {
   "display_name": "Python 3",
   "language": "python",
   "name": "python3"
  },
  "language_info": {
   "codemirror_mode": {
    "name": "ipython",
    "version": 3
   },
   "file_extension": ".py",
   "mimetype": "text/x-python",
   "name": "python",
   "nbconvert_exporter": "python",
   "pygments_lexer": "ipython3",
   "version": "3.7.1"
  }
 },
 "nbformat": 4,
 "nbformat_minor": 2
}
